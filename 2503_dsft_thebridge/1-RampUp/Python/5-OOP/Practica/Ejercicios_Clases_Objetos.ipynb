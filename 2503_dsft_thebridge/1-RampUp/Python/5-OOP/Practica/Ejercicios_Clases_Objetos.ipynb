{
 "cells": [
  {
   "cell_type": "markdown",
   "metadata": {},
   "source": [
    "![imagen](./img/ejercicios.png)\n",
    "\n",
    "# Ejercicios Clases y Objetos"
   ]
  },
  {
   "attachments": {},
   "cell_type": "markdown",
   "metadata": {},
   "source": [
    "## Ejercicio 1\n",
    "Somos una empresa que tiene varias tiendas de electrodomésticos. Necesitamos un programa para manejar las tiendas, ver las ventas que han tenido, cuántos empleados hay, etc... Para ello vamos a modelizar la tienda en una clase, que tendrá las siguientes características:\n",
    "* Nombre clase: \"Tienda\"\n",
    "* Atributos comunes:\n",
    "    * Tipo: \"Electrodomésticos\"\n",
    "    * Abierta: True\n",
    "* Atributos propios de cada tienda:\n",
    "    * Nombre - String\n",
    "    * Dirección - String\n",
    "    * Número de empleados - int\n",
    "    * Ventas últimos 3 meses - Lista de 3 numeros\n",
    "* Método para calcular las ventas de todos los meses, que devuelva un número con todas las ventas.\n",
    "* Método que calcula la media de ventas de los últimos meses, por empleado\n",
    "* Método que devuelve en un string el nombre de la tienda, junto con su dirección.\n",
    "* Método que obtiene las ventas del último mes.\n",
    "* Método para dar una proyección de las ventas en caso de haber invertido X dinero en marketing en esa tienda. Siendo X el parámetro de entrada. Si X es menor de 1000, las ventas de los ultimos 3 meses hubiesen sido de (1.2 x ventas), si es mayor o igual de 1000, las ventas hubiesen sido de (1.5 x venta). El método reescribe el atributo de ventas en los últimos 3 meses, y además devuelve las ventas con el aumento.\n",
    "\n",
    "Se pide:\n",
    "1. Implementar la clase \"Tienda\"\n",
    "2. Crear tres tiendas con datos inventados\n",
    "3. Comprueba en al menos una de ellas, todo lo implementado en la clase tienda (sus atributos, media de ventas, ventas/empleado...)\n",
    "3. Calcular las ventas del último mes de todas las tiendas. Para ello usa el bucle `for`\n",
    "4. Imprime por pantalla los nombres de las tiendas cuya dirección lleve el string \"Avenida\"\n",
    "5. Seguro que ya has hecho este apartado... Documenta la clase :)"
   ]
  },
  {
   "cell_type": "code",
   "execution_count": null,
   "metadata": {},
   "outputs": [
    {
     "ename": "SyntaxError",
     "evalue": "cannot assign to function call here. Maybe you meant '==' instead of '='? (2470636354.py, line 36)",
     "output_type": "error",
     "traceback": [
      "  \u001b[36mCell\u001b[39m\u001b[36m \u001b[39m\u001b[32mIn[58]\u001b[39m\u001b[32m, line 36\u001b[39m\n\u001b[31m    \u001b[39m\u001b[31mself.ventasultimos3meses(i) =self.ventasultimos3meses(i)*1.5\u001b[39m\n    ^\n\u001b[31mSyntaxError\u001b[39m\u001b[31m:\u001b[39m cannot assign to function call here. Maybe you meant '==' instead of '='?\n"
     ]
    }
   ],
   "source": [
    "class Tienda:\n",
    "    #atributos comunes\n",
    "    tipo=\"electrodomésticos\"\n",
    "    abierta=True\n",
    "    #constructor de clase\n",
    "    def __init__(self,nombre:str  ,  direccion:str,numeroempleados:int,ventasultimos3meses:list ):\n",
    "        #atributos particulares para cada instancia\n",
    "        self.nombre=nombre\n",
    "        self.direccion=direccion\n",
    "        self.numeroempleados=numeroempleados\n",
    "        self.ventasultimos3meses=ventasultimos3meses\n",
    "    \n",
    "    #método para calcular las ventas de los ultimos 3 meses\n",
    "    def calcularventas(self):\n",
    "        return sum(self.ventasultimos3meses)\n",
    "\n",
    "    #método para calcular la media de ventas por empleado\n",
    "    def mediaventas(self):\n",
    "        return sum(self.ventasultimos3meses)/self.numeroempleados\n",
    "    #Método que devuelve en un string el nombre de la tienda, junto con su dirección.\n",
    "    #def devuelvetienda(self):\n",
    "\n",
    "\n",
    "    #Método que obtiene las ventas del último mes.\n",
    "    def ventasultimomes(self):\n",
    "        return self.ventasultimos3meses\n",
    "    #  Método para dar una proyección de las ventas en caso de haber invertido X dinero en marketing en esa tienda. Siendo X el parámetro de entrada. Si X es menor de 1000, las ventas de los ultimos 3 meses hubiesen sido de (1.2 x ventas), si es mayor o igual de 1000, las ventas hubiesen sido de (1.5 x venta). El método reescribe el atributo de ventas en los últimos 3 meses, y además devuelve las ventas con el aumento.\n",
    "    #buen cacao para mañana VVVVVVVVV\n",
    "    def proyeccion(self, marketing:float):\n",
    "        if marketing<1000:\n",
    "            for i in self.ventasultimos3meses:\n",
    "                i=i*1.2\n",
    "                print(\"La proyección de ventas para la tienda\", self.nombre, \"es de\", self.ventasultimos3meses)\n",
    "        elif marketing>=1000:\n",
    "            for i in range(len(self.ventasultimos3meses)):\n",
    "                self.ventasultimos3meses(i) =self.ventasultimos3meses(i)*1.5\n",
    "                print(\"la proyección de ventas para la tienda\",self.nombre, \"es de\", self.ventasultimos3meses)\n",
    "        elif marketing==0:\n",
    "            print(\" la tienda \",self,\"no invirtió en marketing, por lo que no hay una proyección disponible\")\n",
    "\n",
    "    def avenida(self):\n",
    "        for i in self.direccion:\n",
    "            if self.direccion==\"Avenida\":\n",
    "                print(self.nombre)\n",
    "\n"
   ]
  },
  {
   "cell_type": "code",
   "execution_count": null,
   "metadata": {},
   "outputs": [],
   "source": [
    "#datos de 3 tiendas no ficticias\n",
    "electro_1=Tienda(\"Los golosos\", \"Avenida de Valencia\", 3,[2000,2500,3000])\n",
    "electro_2=Tienda(\"Los melosos\", \"La Moncloa\", 7,[3000,4000,9000])\n",
    "electro_3=Tienda(\"Los sosos\", \"Plaza Gibraltar, Japón\", 10,[4000,3500,7000])"
   ]
  },
  {
   "cell_type": "code",
   "execution_count": 17,
   "metadata": {},
   "outputs": [
    {
     "name": "stdout",
     "output_type": "stream",
     "text": [
      "[2000, 2500, 3000]\n",
      "Los golosos\n",
      "Avenida de Valencia\n",
      "3\n"
     ]
    }
   ],
   "source": [
    "#probando las funcionalidades del OOP:\n",
    "print(electro_1.ventasultimos3meses)\n",
    "print(electro_1.nombre)\n",
    "print(electro_1.direccion)\n",
    "print(electro_1.numeroempleados)"
   ]
  },
  {
   "cell_type": "code",
   "execution_count": 32,
   "metadata": {},
   "outputs": [
    {
     "name": "stdout",
     "output_type": "stream",
     "text": [
      "7500\n",
      "2500.0\n"
     ]
    }
   ],
   "source": [
    "#probando métodos\n",
    "print(Tienda.calcularventas(electro_1))\n",
    "print(Tienda.mediaventas(electro_1))"
   ]
  },
  {
   "cell_type": "code",
   "execution_count": 37,
   "metadata": {},
   "outputs": [
    {
     "name": "stdout",
     "output_type": "stream",
     "text": [
      "3\n",
      "6\n",
      "9\n"
     ]
    }
   ],
   "source": [
    "ventastotales=0\n",
    "y=[1,2,3]\n",
    "for i in y:\n",
    "   print(i*3)"
   ]
  },
  {
   "cell_type": "code",
   "execution_count": 54,
   "metadata": {},
   "outputs": [
    {
     "ename": "TypeError",
     "evalue": "'list' object cannot be interpreted as an integer",
     "output_type": "error",
     "traceback": [
      "\u001b[31m---------------------------------------------------------------------------\u001b[39m",
      "\u001b[31mTypeError\u001b[39m                                 Traceback (most recent call last)",
      "\u001b[36mCell\u001b[39m\u001b[36m \u001b[39m\u001b[32mIn[54]\u001b[39m\u001b[32m, line 1\u001b[39m\n\u001b[32m----> \u001b[39m\u001b[32m1\u001b[39m \u001b[43mTienda\u001b[49m\u001b[43m.\u001b[49m\u001b[43mproyeccion\u001b[49m\u001b[43m(\u001b[49m\u001b[43melectro_1\u001b[49m\u001b[43m,\u001b[49m\u001b[32;43m1500\u001b[39;49m\u001b[43m)\u001b[49m\n",
      "\u001b[36mCell\u001b[39m\u001b[36m \u001b[39m\u001b[32mIn[53]\u001b[39m\u001b[32m, line 34\u001b[39m, in \u001b[36mTienda.proyeccion\u001b[39m\u001b[34m(self, marketing)\u001b[39m\n\u001b[32m     32\u001b[39m         \u001b[38;5;28mprint\u001b[39m(\u001b[33m\"\u001b[39m\u001b[33mLa proyección de ventas para la tienda\u001b[39m\u001b[33m\"\u001b[39m, \u001b[38;5;28mself\u001b[39m.nombre, \u001b[33m\"\u001b[39m\u001b[33mes de\u001b[39m\u001b[33m\"\u001b[39m, \u001b[38;5;28mself\u001b[39m.ventasultimos3meses)\n\u001b[32m     33\u001b[39m \u001b[38;5;28;01melif\u001b[39;00m marketing>=\u001b[32m1000\u001b[39m:\n\u001b[32m---> \u001b[39m\u001b[32m34\u001b[39m     \u001b[38;5;28;01mfor\u001b[39;00m i \u001b[38;5;129;01min\u001b[39;00m \u001b[38;5;28;43mrange\u001b[39;49m\u001b[43m(\u001b[49m\u001b[38;5;28;43mself\u001b[39;49m\u001b[43m.\u001b[49m\u001b[43mventasultimos3meses\u001b[49m\u001b[43m)\u001b[49m:\n\u001b[32m     35\u001b[39m         \u001b[38;5;28mprint\u001b[39m(\u001b[38;5;28mtype\u001b[39m(\u001b[38;5;28mself\u001b[39m.ventasultimos3meses(i))) \u001b[38;5;66;03m#self.ventasultimos3meses(i)*1.5))\u001b[39;00m\n\u001b[32m     36\u001b[39m         \u001b[38;5;28mprint\u001b[39m(\u001b[33m\"\u001b[39m\u001b[33mla proyección de ventas para la tienda\u001b[39m\u001b[33m\"\u001b[39m,\u001b[38;5;28mself\u001b[39m.nombre, \u001b[33m\"\u001b[39m\u001b[33mes de\u001b[39m\u001b[33m\"\u001b[39m, \u001b[38;5;28mself\u001b[39m.ventasultimos3meses)\n",
      "\u001b[31mTypeError\u001b[39m: 'list' object cannot be interpreted as an integer"
     ]
    }
   ],
   "source": [
    "Tienda.proyeccion(electro_1,1500)"
   ]
  },
  {
   "cell_type": "code",
   "execution_count": 61,
   "metadata": {},
   "outputs": [
    {
     "name": "stdout",
     "output_type": "stream",
     "text": [
      "Avenida\n"
     ]
    }
   ],
   "source": [
    "listatest=[\"Avenida del gallo\",\"no\",\"Avenida\"]\n",
    "for i in listatest:\n",
    "    if i==\"Avenida\":\n",
    "        print(i)"
   ]
  },
  {
   "cell_type": "code",
   "execution_count": null,
   "metadata": {},
   "outputs": [],
   "source": []
  },
  {
   "cell_type": "code",
   "execution_count": null,
   "metadata": {},
   "outputs": [],
   "source": []
  },
  {
   "cell_type": "code",
   "execution_count": 18,
   "metadata": {},
   "outputs": [],
   "source": []
  },
  {
   "cell_type": "code",
   "execution_count": null,
   "metadata": {},
   "outputs": [],
   "source": []
  },
  {
   "cell_type": "code",
   "execution_count": null,
   "metadata": {},
   "outputs": [],
   "source": []
  },
  {
   "cell_type": "code",
   "execution_count": null,
   "metadata": {},
   "outputs": [],
   "source": []
  },
  {
   "cell_type": "markdown",
   "metadata": {},
   "source": [
    "## Ejercicio 2\n",
    "En este ejercicio vamos a implementar una clase *Perro* en Python. La clase tiene las siguientes características:\n",
    "* Cosas que sabemos seguro que tiene un perro\n",
    "    * Tiene 4 patas\n",
    "    * 2 orejas\n",
    "    * 2 ojos\n",
    "    * Una velocidad de 0. Por defecto, el perro está parado\n",
    "* Cuando se inicialice:\n",
    "    * El perro será de una determinada raza\n",
    "    * Por defecto tendrá pelo \"Marrón\", a no ser que se diga lo contrario.\n",
    "    * Por defecto no tendrá dueño, a no ser que se diga lo contrario.\n",
    "    \n",
    "* Dispondrá también de un método llamado andar, que tiene un argumento de entrada (aumento_velocidad). Este valor se le sumará a la velocidad que ya llevaba el perro.\n",
    "* Necesita otro método (parar), donde pondremos la velocidad a 0.\n",
    "* Otro método llamado \"ladrar\", que tendrá un argumento de entrada, y la salida será el siguiente string: \"GUAU!\" + el argumento de entrada.\n",
    "\n",
    "\n",
    "Se pide:\n",
    "* Implementa la clase *Perro*\n",
    "* Crea un objeto de tipo *Perro*, sin dueño\n",
    "* Comprueba que están bien todos sus atributos\n",
    "* Prueba que ande, y comprueba su velocidad\n",
    "* Páralo\n",
    "* Documenta la clase *Perro*"
   ]
  },
  {
   "cell_type": "code",
   "execution_count": null,
   "metadata": {},
   "outputs": [],
   "source": [
    "class Perro:\n",
    "    def __init__(self,):\n",
    "        self.\n"
   ]
  },
  {
   "cell_type": "code",
   "execution_count": 32,
   "metadata": {},
   "outputs": [],
   "source": []
  },
  {
   "cell_type": "code",
   "execution_count": null,
   "metadata": {},
   "outputs": [],
   "source": []
  },
  {
   "cell_type": "code",
   "execution_count": null,
   "metadata": {},
   "outputs": [],
   "source": []
  },
  {
   "cell_type": "code",
   "execution_count": null,
   "metadata": {},
   "outputs": [],
   "source": []
  }
 ],
 "metadata": {
  "kernelspec": {
   "display_name": "Python 3",
   "language": "python",
   "name": "python3"
  },
  "language_info": {
   "codemirror_mode": {
    "name": "ipython",
    "version": 3
   },
   "file_extension": ".py",
   "mimetype": "text/x-python",
   "name": "python",
   "nbconvert_exporter": "python",
   "pygments_lexer": "ipython3",
   "version": "3.11.9"
  }
 },
 "nbformat": 4,
 "nbformat_minor": 4
}

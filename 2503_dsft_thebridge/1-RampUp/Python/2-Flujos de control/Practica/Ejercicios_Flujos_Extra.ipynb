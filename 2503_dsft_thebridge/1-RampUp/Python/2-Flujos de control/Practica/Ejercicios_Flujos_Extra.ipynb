{
 "cells": [
  {
   "cell_type": "markdown",
   "metadata": {},
   "source": [
    "![imagen](./img/ejercicios.png)"
   ]
  },
  {
   "cell_type": "markdown",
   "metadata": {},
   "source": [
    "# Ejercicios Flujos de control"
   ]
  },
  {
   "cell_type": "markdown",
   "metadata": {},
   "source": [
    "## Ejercicio 1\n",
    "Programa una calculadora que\n",
    "\n",
    "* Pregunte qué operación quieres realizar (multiplicación/división/suma/resta/potencia/salir)\n",
    "* Pida dos números \n",
    "* Realice la operación\n",
    "* Siga funcionando hasta que el usuario elija salir\n",
    "\n",
    "#### Bonus:\n",
    "* Que guarde todas las operaciones realizadas y las imprima por pantalla cuando el usuario elija esa opción\n",
    "* Que no "
   ]
  },
  {
   "cell_type": "code",
   "execution_count": 22,
   "metadata": {},
   "outputs": [],
   "source": [
    "import time"
   ]
  },
  {
   "cell_type": "code",
   "execution_count": null,
   "metadata": {},
   "outputs": [
    {
     "ename": "TypeError",
     "evalue": "'>' not supported between instances of 'str' and 'int'",
     "output_type": "error",
     "traceback": [
      "\u001b[31m---------------------------------------------------------------------------\u001b[39m",
      "\u001b[31mTypeError\u001b[39m                                 Traceback (most recent call last)",
      "\u001b[36mCell\u001b[39m\u001b[36m \u001b[39m\u001b[32mIn[16]\u001b[39m\u001b[32m, line 6\u001b[39m\n\u001b[32m      4\u001b[39m num_1= \u001b[38;5;28mfloat\u001b[39m(\u001b[38;5;28minput\u001b[39m(\u001b[33m\"\u001b[39m\u001b[33m1er numero\u001b[39m\u001b[33m\"\u001b[39m))\n\u001b[32m      5\u001b[39m num_2=\u001b[38;5;28mfloat\u001b[39m(\u001b[38;5;28minput\u001b[39m(\u001b[33m\"\u001b[39m\u001b[33m2º numero\u001b[39m\u001b[33m\"\u001b[39m))\n\u001b[32m----> \u001b[39m\u001b[32m6\u001b[39m \u001b[38;5;28;01mwhile\u001b[39;00m \u001b[43mtipo_op\u001b[49m\u001b[43m \u001b[49m\u001b[43m>\u001b[49m\u001b[43m \u001b[49m\u001b[32;43m0\u001b[39;49m :\n\u001b[32m      7\u001b[39m     \u001b[38;5;28;01mif\u001b[39;00m tipo_op==\u001b[32m0\u001b[39m:\n\u001b[32m      8\u001b[39m         \u001b[38;5;28mprint\u001b[39m(\u001b[33m\"\u001b[39m\u001b[33mapagando calculadora\u001b[39m\u001b[33m\"\u001b[39m)\n",
      "\u001b[31mTypeError\u001b[39m: '>' not supported between instances of 'str' and 'int'"
     ]
    }
   ],
   "source": [
    "#Calculadora online free no virus 2025\n",
    "\n",
    "tipo_op=input(\"qué operación quiere realizar? Escriba el número del siguiente índice: Multiplicación=1,División=2, Suma=3,Resta=4,Potencia=5, cancelar=0\")\n",
    "num_1= float(input(\"1er numero\"))\n",
    "num_2=float(input(\"2º numero\"))\n",
    "while tipo_op > 0 :\n",
    "    if tipo_op==0:\n",
    "        print(\"apagando calculadora\")\n",
    "        break\n",
    "    elif tipo_op==1:\n",
    "        num_3=num_1*num_2\n",
    "    elif tipo_op==2:\n",
    "        num_3=num_1/num_2\n",
    "    elif tipo_op==3:\n",
    "        num_3=num_1+num_2\n",
    "    elif tipo_op==4:\n",
    "        num_3=num_1-num_2\n",
    "    elif tipo_op==5:\n",
    "        num_3=num_1**num_2\n",
    "    \n",
    "    print(f\"el resultado es \",{num_3} )\n",
    "\n",
    "#esto está <-----------------\n",
    "#mal <--------------\n",
    "#ignorar <-----------------------\n"
   ]
  },
  {
   "cell_type": "code",
   "execution_count": 33,
   "metadata": {},
   "outputs": [
    {
     "name": "stdout",
     "output_type": "stream",
     "text": [
      "el resultado es  {3125.0}\n",
      "el resultado es  {81.0}\n",
      "el resultado es  {5.0}\n",
      "apagando calculadora\n"
     ]
    }
   ],
   "source": [
    "#Calculadora online free no virus 2025\n",
    "i=1\n",
    "while i>0:\n",
    "    tipo_op=int(input(\"qué operación quiere realizar? Escriba el número del siguiente índice: Multiplicación=1,División=2, Suma=3,Resta=4,Potencia=5, cancelar=0\"))\n",
    "    if tipo_op == 0:\n",
    "        print(\"apagando calculadora\")\n",
    "        break\n",
    "    else: \n",
    "        num_1= float(input(\"1er numero\"))\n",
    "        num_2=float(input(\"2º numero\"))\n",
    "        \n",
    "        if tipo_op==1:\n",
    "            num_3= num_1*num_2\n",
    "        elif tipo_op==2:\n",
    "            num_3= num_1/num_2\n",
    "        elif tipo_op==3:\n",
    "            num_3= num_1+num_2\n",
    "        elif tipo_op==4:\n",
    "            num_3=num_1-num_2\n",
    "        elif tipo_op==5:\n",
    "            num_3=num_1**num_2\n",
    "          \n",
    "       \n",
    "    \n",
    "        print(f\"el resultado es \",{num_3} )\n",
    "#mucho ojo a las indentaciones\n",
    "\n"
   ]
  },
  {
   "cell_type": "code",
   "execution_count": 27,
   "metadata": {},
   "outputs": [
    {
     "ename": "NameError",
     "evalue": "name 'num_3' is not defined",
     "output_type": "error",
     "traceback": [
      "\u001b[31m---------------------------------------------------------------------------\u001b[39m",
      "\u001b[31mNameError\u001b[39m                                 Traceback (most recent call last)",
      "\u001b[36mCell\u001b[39m\u001b[36m \u001b[39m\u001b[32mIn[27]\u001b[39m\u001b[32m, line 1\u001b[39m\n\u001b[32m----> \u001b[39m\u001b[32m1\u001b[39m \u001b[38;5;28mprint\u001b[39m(\u001b[43mnum_3\u001b[49m)\n",
      "\u001b[31mNameError\u001b[39m: name 'num_3' is not defined"
     ]
    }
   ],
   "source": [
    "print(num_3)"
   ]
  },
  {
   "cell_type": "code",
   "execution_count": null,
   "metadata": {},
   "outputs": [],
   "source": []
  },
  {
   "cell_type": "code",
   "execution_count": null,
   "metadata": {},
   "outputs": [],
   "source": []
  },
  {
   "cell_type": "code",
   "execution_count": null,
   "metadata": {},
   "outputs": [],
   "source": []
  }
 ],
 "metadata": {
  "kernelspec": {
   "display_name": "Python 3",
   "language": "python",
   "name": "python3"
  },
  "language_info": {
   "codemirror_mode": {
    "name": "ipython",
    "version": 3
   },
   "file_extension": ".py",
   "mimetype": "text/x-python",
   "name": "python",
   "nbconvert_exporter": "python",
   "pygments_lexer": "ipython3",
   "version": "3.11.9"
  }
 },
 "nbformat": 4,
 "nbformat_minor": 4
}

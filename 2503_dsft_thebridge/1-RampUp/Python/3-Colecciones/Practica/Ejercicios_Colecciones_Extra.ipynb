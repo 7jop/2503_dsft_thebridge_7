{
 "cells": [
  {
   "cell_type": "markdown",
   "metadata": {},
   "source": [
    "## Ejercicio Extra\n",
    "Programa el SW de una biblioteca:\n",
    "\n",
    "* Preguntar qué operación quieres realizar (visualizar todos los libros de la biblioteca/buscar libro/añadir libro/eliminar libro por título)\n",
    "    * En caso de que pida el usuario elija visualizar se visualizarán todos los libros\n",
    "    * Buscar libro: búsqueda por título que introduce el usuario y se visualiza todos los campos del libro\n",
    "    * Añadir libro: se debe solicitar al usuario que introduzca título y autor para el nuevo libro y se añade el libro a la lista de libros\n",
    "    * Eliminar libro: se solicita al usuario el título del libro y éste debe ser eliminado de la lista de libros\n",
    "    * Alquilar libro: se solicita al usuario el título del libro y se debe pasar el campo \"Alquilado\" a True\n",
    "    * Devolver libro: se solicita al usuario el título del libro y se debe pasar el campo \"Alquilado\" a False"
   ]
  },
  {
   "cell_type": "code",
   "execution_count": 87,
   "metadata": {},
   "outputs": [],
   "source": [
    "libros = [\n",
    "    {\"Titulo\": \"Python Data Science Handbook\", \"Autor\": \"Jake VanderPlas\", \"Alquilado\": False},\n",
    "    {\"Titulo\": \"Hands-On Machine Learning with Scikit-Learn, Keras, and TensorFlow\", \"Autor\": \"Aurélien Géron\", \"Alquilado\": True},\n",
    "    {\"Titulo\": \"Pattern Recognition and Machine Learning\", \"Autor\": \"Christopher M. Bishop\", \"Alquilado\": False},\n",
    "    {\"Titulo\": \"Deep Learning\", \"Autor\": \"Ian Goodfellow, Yoshua Bengio, Aaron Courville\", \"Alquilado\": True},\n",
    "    {\"Titulo\": \"The Elements of Statistical Learning\", \"Autor\": \"Trevor Hastie, Robert Tibshirani, Jerome Friedman\", \"Alquilado\": False},\n",
    "    {\"Titulo\": \"Data Science for Business\", \"Autor\": \"Foster Provost, Tom Fawcett\", \"Alquilado\": False},\n",
    "    {\"Titulo\": \"Bayesian Data Analysis\", \"Autor\": \"Andrew Gelman et al.\", \"Alquilado\": True},\n",
    "    {\"Titulo\": \"Introduction to the Theory of Computation\", \"Autor\": \"Michael Sipser\", \"Alquilado\": False},\n",
    "    {\"Titulo\": \"Artificial Intelligence: A Modern Approach\", \"Autor\": \"Stuart Russell, Peter Norvig\", \"Alquilado\": True},\n",
    "    {\"Titulo\": \"Computer Vision: Algorithms and Applications\", \"Autor\": \"Richard Szeliski\", \"Alquilado\": False},\n",
    "    {\"Titulo\": \"Data Science from Scratch\", \"Autor\": \"Joel Grus\", \"Alquilado\": True},\n",
    "    {\"Titulo\": \"The Art of Statistics\", \"Autor\": \"David Spiegelhalter\", \"Alquilado\": False},\n",
    "    {\"Titulo\": \"Python Machine Learning\", \"Autor\": \"Sebastian Raschka, Vahid Mirjalili\", \"Alquilado\": True},\n",
    "    {\"Titulo\": \"An Introduction to Statistical Learning\", \"Autor\": \"Gareth James, Daniela Witten, Trevor Hastie, Robert Tibshirani\", \"Alquilado\": False},\n",
    "    {\"Titulo\": \"Fundamentals of Data Engineering\", \"Autor\": \"Joe Reis, Matt Housley\", \"Alquilado\": False},\n",
    "    {\"Titulo\": \"Storytelling with Data\", \"Autor\": \"Cole Nussbaumer Knaflic\", \"Alquilado\": True},\n",
    "    {\"Titulo\": \"Building Machine Learning Powered Applications\", \"Autor\": \"Emmanuel Ameisen\", \"Alquilado\": False},\n",
    "    {\"Titulo\": \"Practical Statistics for Data Scientists\", \"Autor\": \"Peter Bruce, Andrew Bruce\", \"Alquilado\": True},\n",
    "    {\"Titulo\": \"SQL for Data Scientists\", \"Autor\": \"Renee M. P. Teate\", \"Alquilado\": False},\n",
    "    {\"Titulo\": \"Data Engineering on Azure\", \"Autor\": \"Vlad Riscutia\", \"Alquilado\": True}\n",
    "    ]"
   ]
  },
  {
   "cell_type": "code",
   "execution_count": 88,
   "metadata": {},
   "outputs": [
    {
     "name": "stdout",
     "output_type": "stream",
     "text": [
      "[{'Titulo': 'Python Data Science Handbook', 'Autor': 'Jake VanderPlas', 'Alquilado': False}, {'Titulo': 'Hands-On Machine Learning with Scikit-Learn, Keras, and TensorFlow', 'Autor': 'Aurélien Géron', 'Alquilado': True}, {'Titulo': 'Pattern Recognition and Machine Learning', 'Autor': 'Christopher M. Bishop', 'Alquilado': False}, {'Titulo': 'Deep Learning', 'Autor': 'Ian Goodfellow, Yoshua Bengio, Aaron Courville', 'Alquilado': True}, {'Titulo': 'The Elements of Statistical Learning', 'Autor': 'Trevor Hastie, Robert Tibshirani, Jerome Friedman', 'Alquilado': False}, {'Titulo': 'Data Science for Business', 'Autor': 'Foster Provost, Tom Fawcett', 'Alquilado': False}, {'Titulo': 'Bayesian Data Analysis', 'Autor': 'Andrew Gelman et al.', 'Alquilado': True}, {'Titulo': 'Introduction to the Theory of Computation', 'Autor': 'Michael Sipser', 'Alquilado': False}, {'Titulo': 'Artificial Intelligence: A Modern Approach', 'Autor': 'Stuart Russell, Peter Norvig', 'Alquilado': True}, {'Titulo': 'Computer Vision: Algorithms and Applications', 'Autor': 'Richard Szeliski', 'Alquilado': False}, {'Titulo': 'Data Science from Scratch', 'Autor': 'Joel Grus', 'Alquilado': True}, {'Titulo': 'The Art of Statistics', 'Autor': 'David Spiegelhalter', 'Alquilado': False}, {'Titulo': 'Python Machine Learning', 'Autor': 'Sebastian Raschka, Vahid Mirjalili', 'Alquilado': True}, {'Titulo': 'An Introduction to Statistical Learning', 'Autor': 'Gareth James, Daniela Witten, Trevor Hastie, Robert Tibshirani', 'Alquilado': False}, {'Titulo': 'Fundamentals of Data Engineering', 'Autor': 'Joe Reis, Matt Housley', 'Alquilado': False}, {'Titulo': 'Storytelling with Data', 'Autor': 'Cole Nussbaumer Knaflic', 'Alquilado': True}, {'Titulo': 'Building Machine Learning Powered Applications', 'Autor': 'Emmanuel Ameisen', 'Alquilado': False}, {'Titulo': 'Practical Statistics for Data Scientists', 'Autor': 'Peter Bruce, Andrew Bruce', 'Alquilado': True}, {'Titulo': 'SQL for Data Scientists', 'Autor': 'Renee M. P. Teate', 'Alquilado': False}, {'Titulo': 'Data Engineering on Azure', 'Autor': 'Vlad Riscutia', 'Alquilado': True}, {'Título': 'lalalalalala', 'Autor': 'pepe le pioux'}]\n",
      "[{'Titulo': 'Python Data Science Handbook', 'Autor': 'Jake VanderPlas', 'Alquilado': False}, {'Titulo': 'Hands-On Machine Learning with Scikit-Learn, Keras, and TensorFlow', 'Autor': 'Aurélien Géron', 'Alquilado': True}, {'Titulo': 'Pattern Recognition and Machine Learning', 'Autor': 'Christopher M. Bishop', 'Alquilado': False}, {'Titulo': 'Deep Learning', 'Autor': 'Ian Goodfellow, Yoshua Bengio, Aaron Courville', 'Alquilado': True}, {'Titulo': 'The Elements of Statistical Learning', 'Autor': 'Trevor Hastie, Robert Tibshirani, Jerome Friedman', 'Alquilado': False}, {'Titulo': 'Data Science for Business', 'Autor': 'Foster Provost, Tom Fawcett', 'Alquilado': False}, {'Titulo': 'Bayesian Data Analysis', 'Autor': 'Andrew Gelman et al.', 'Alquilado': True}, {'Titulo': 'Introduction to the Theory of Computation', 'Autor': 'Michael Sipser', 'Alquilado': False}, {'Titulo': 'Artificial Intelligence: A Modern Approach', 'Autor': 'Stuart Russell, Peter Norvig', 'Alquilado': True}, {'Titulo': 'Computer Vision: Algorithms and Applications', 'Autor': 'Richard Szeliski', 'Alquilado': False}, {'Titulo': 'Data Science from Scratch', 'Autor': 'Joel Grus', 'Alquilado': True}, {'Titulo': 'The Art of Statistics', 'Autor': 'David Spiegelhalter', 'Alquilado': False}, {'Titulo': 'Python Machine Learning', 'Autor': 'Sebastian Raschka, Vahid Mirjalili', 'Alquilado': True}, {'Titulo': 'An Introduction to Statistical Learning', 'Autor': 'Gareth James, Daniela Witten, Trevor Hastie, Robert Tibshirani', 'Alquilado': False}, {'Titulo': 'Fundamentals of Data Engineering', 'Autor': 'Joe Reis, Matt Housley', 'Alquilado': False}, {'Titulo': 'Storytelling with Data', 'Autor': 'Cole Nussbaumer Knaflic', 'Alquilado': True}, {'Titulo': 'Building Machine Learning Powered Applications', 'Autor': 'Emmanuel Ameisen', 'Alquilado': False}, {'Titulo': 'Practical Statistics for Data Scientists', 'Autor': 'Peter Bruce, Andrew Bruce', 'Alquilado': True}, {'Titulo': 'SQL for Data Scientists', 'Autor': 'Renee M. P. Teate', 'Alquilado': False}, {'Titulo': 'Data Engineering on Azure', 'Autor': 'Vlad Riscutia', 'Alquilado': True}]\n"
     ]
    }
   ],
   "source": [
    "#testeando la estructura del catalogo\n",
    "libros.append( {\"Título\": \"lalalalalala\", \"Autor\": \"pepe le pioux\"})\n",
    "print(libros)\n",
    "libros.remove( {\"Título\": \"lalalalalala\", \"Autor\": \"pepe le pioux\"})\n",
    "print(libros)"
   ]
  },
  {
   "cell_type": "code",
   "execution_count": null,
   "metadata": {},
   "outputs": [
    {
     "name": "stdout",
     "output_type": "stream",
     "text": [
      "Deep Learning\n",
      "{'Titulo': 'Deep Learning', 'Autor': 'Ian Goodfellow, Yoshua Bengio, Aaron Courville', 'Alquilado': True}\n"
     ]
    }
   ],
   "source": [
    "#función para buscar libros en el catálogo por título\n",
    "\n",
    "tituloabuscar=input(\"introduce el título del libro\")\n",
    "def buscar_titulo(zanahorias):\n",
    "   for libro in libros:\n",
    "      titulo=libro[\"Titulo\"]\n",
    "      \n",
    "      if titulo== tituloabuscar:\n",
    "         print(titulo)\n",
    "         print(libro)\n",
    "buscar_titulo(tituloabuscar)\n",
    "\n"
   ]
  },
  {
   "cell_type": "code",
   "execution_count": null,
   "metadata": {},
   "outputs": [],
   "source": [
    "#función para añadir libros a la base de datos, requiere título y autor\n",
    "tituloaanadir=input(\"introduce el título del libro a añadir\")\n",
    "autordeltitulo=input(\"ahora introduce el nombre del autor\")\n",
    "def anadir(titulodellibro, autor)\n",
    "    libros\n",
    "\n",
    "        \n"
   ]
  },
  {
   "cell_type": "code",
   "execution_count": null,
   "metadata": {},
   "outputs": [],
   "source": [
    "#función para eliminar libros de la base de datos\n"
   ]
  },
  {
   "cell_type": "code",
   "execution_count": null,
   "metadata": {},
   "outputs": [],
   "source": [
    "#función para alquilar libro"
   ]
  },
  {
   "cell_type": "code",
   "execution_count": null,
   "metadata": {},
   "outputs": [],
   "source": [
    "#función para devolver libro"
   ]
  },
  {
   "cell_type": "code",
   "execution_count": 63,
   "metadata": {},
   "outputs": [
    {
     "ename": "TypeError",
     "evalue": "list indices must be integers or slices, not str",
     "output_type": "error",
     "traceback": [
      "\u001b[31m---------------------------------------------------------------------------\u001b[39m",
      "\u001b[31mTypeError\u001b[39m                                 Traceback (most recent call last)",
      "\u001b[36mCell\u001b[39m\u001b[36m \u001b[39m\u001b[32mIn[63]\u001b[39m\u001b[32m, line 1\u001b[39m\n\u001b[32m----> \u001b[39m\u001b[32m1\u001b[39m \u001b[43mlibros\u001b[49m\u001b[43m[\u001b[49m\u001b[33;43m\"\u001b[39;49m\u001b[33;43mTitulo\u001b[39;49m\u001b[33;43m\"\u001b[39;49m\u001b[43m]\u001b[49m\n",
      "\u001b[31mTypeError\u001b[39m: list indices must be integers or slices, not str"
     ]
    }
   ],
   "source": [
    "libros[\"Titulo\"]"
   ]
  },
  {
   "cell_type": "code",
   "execution_count": null,
   "metadata": {},
   "outputs": [],
   "source": [
    "import pprint\n",
    "pprint.pp(libros)"
   ]
  },
  {
   "cell_type": "code",
   "execution_count": null,
   "metadata": {},
   "outputs": [
    {
     "ename": "IndentationError",
     "evalue": "expected an indented block after function definition on line 3 (1907889459.py, line 6)",
     "output_type": "error",
     "traceback": [
      "  \u001b[36mCell\u001b[39m\u001b[36m \u001b[39m\u001b[32mIn[19]\u001b[39m\u001b[32m, line 6\u001b[39m\n\u001b[31m    \u001b[39m\u001b[31mdef buscarlibro():\u001b[39m\n    ^\n\u001b[31mIndentationError\u001b[39m\u001b[31m:\u001b[39m expected an indented block after function definition on line 3\n"
     ]
    }
   ],
   "source": [
    "op=input(\"¿qué operación desea realizar? introduzca uno de los siguientes números códigos:  1:ver catálogo, 2:buscar libro,3: añadir libro, 4:eliminar libro por título,5:alquilar libro,6:devolver libro, 0:apagar\")\n",
    "\n",
    "def vercatalogo():\n",
    "   pprint.pp(libros)\n",
    "\n",
    "def buscar_titulo(libros):\n",
    "   titulo=input(\"introduce el título del libro\")\n",
    "   for libro in libros:\n",
    "      titulo=libro[\"Título\"]\n",
    "      print(titulo)\n",
    "      \n",
    "\n",
    "def anadir():\n",
    "\n",
    "def eliminar():\n",
    "\n",
    "def alquilar():\n",
    "\n",
    "def devolver():\n",
    "\n",
    "\n",
    "\n",
    "\n",
    "\n",
    "\n",
    "bucle=True:\n",
    "while bucle== True:\n",
    "   if op==1:\n",
    "      aaaaa\n",
    "   elif op==2:\n",
    "      buscarlibro()\n",
    "   elif op==3:\n",
    "      aaaa\n",
    "   elif op==4:\n",
    "      aaaa\n",
    "   else:\n",
    "      \n",
    "\n",
    "\n",
    "\n",
    "buscarlibro(op)\n"
   ]
  }
 ],
 "metadata": {
  "kernelspec": {
   "display_name": "Python 3",
   "language": "python",
   "name": "python3"
  },
  "language_info": {
   "codemirror_mode": {
    "name": "ipython",
    "version": 3
   },
   "file_extension": ".py",
   "mimetype": "text/x-python",
   "name": "python",
   "nbconvert_exporter": "python",
   "pygments_lexer": "ipython3",
   "version": "3.11.9"
  }
 },
 "nbformat": 4,
 "nbformat_minor": 2
}
